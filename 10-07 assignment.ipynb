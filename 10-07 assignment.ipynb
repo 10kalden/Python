{
 "cells": [
  {
   "cell_type": "code",
   "execution_count": 11,
   "id": "ae2b1ecc",
   "metadata": {},
   "outputs": [],
   "source": [
    "class Bikes:\n",
    "    no_of_wheels = 2\n",
    "    no_of_exhaust = 1\n",
    "    \n",
    "    def __init__(self, co, mo, br, prc, cc):\n",
    "        self.color = co\n",
    "        self.model = mo\n",
    "        self.brand = br\n",
    "        self.price = prc\n",
    "        self.cubic_capacity = cc\n",
    "        "
   ]
  },
  {
   "cell_type": "code",
   "execution_count": 12,
   "id": "56195a04",
   "metadata": {},
   "outputs": [],
   "source": [
    "b1 = Bikes('yellow', 'tv300', 'vespa', '90K', 150)"
   ]
  },
  {
   "cell_type": "code",
   "execution_count": 13,
   "id": "dbc3667d",
   "metadata": {},
   "outputs": [],
   "source": [
    "b2 = Bikes('black', 'thunderbird', 'royalenfield', '190k', 350)"
   ]
  },
  {
   "cell_type": "code",
   "execution_count": 14,
   "id": "1df1a0b6",
   "metadata": {},
   "outputs": [],
   "source": [
    "b3 = Bikes('white', 'pulsarNS', 'bajaj', '150k', 200)"
   ]
  },
  {
   "cell_type": "code",
   "execution_count": 15,
   "id": "f7b8b136",
   "metadata": {},
   "outputs": [
    {
     "data": {
      "text/plain": [
       "'vespa'"
      ]
     },
     "execution_count": 15,
     "metadata": {},
     "output_type": "execute_result"
    }
   ],
   "source": [
    "b1.brand"
   ]
  },
  {
   "cell_type": "code",
   "execution_count": 16,
   "id": "ded5e8e0",
   "metadata": {},
   "outputs": [
    {
     "data": {
      "text/plain": [
       "'190k'"
      ]
     },
     "execution_count": 16,
     "metadata": {},
     "output_type": "execute_result"
    }
   ],
   "source": [
    "b2.price"
   ]
  },
  {
   "cell_type": "code",
   "execution_count": 18,
   "id": "a08aa2c3",
   "metadata": {},
   "outputs": [
    {
     "data": {
      "text/plain": [
       "200"
      ]
     },
     "execution_count": 18,
     "metadata": {},
     "output_type": "execute_result"
    }
   ],
   "source": [
    "b3.cubic_capacity"
   ]
  },
  {
   "cell_type": "code",
   "execution_count": 19,
   "id": "760c84b5",
   "metadata": {},
   "outputs": [
    {
     "data": {
      "text/plain": [
       "2"
      ]
     },
     "execution_count": 19,
     "metadata": {},
     "output_type": "execute_result"
    }
   ],
   "source": [
    "b1.no_of_wheels"
   ]
  },
  {
   "cell_type": "code",
   "execution_count": 20,
   "id": "74f42c01",
   "metadata": {},
   "outputs": [
    {
     "data": {
      "text/plain": [
       "1"
      ]
     },
     "execution_count": 20,
     "metadata": {},
     "output_type": "execute_result"
    }
   ],
   "source": [
    "b1.no_of_exhaust"
   ]
  },
  {
   "cell_type": "code",
   "execution_count": null,
   "id": "ba62a7bc",
   "metadata": {},
   "outputs": [],
   "source": []
  }
 ],
 "metadata": {
  "kernelspec": {
   "display_name": "Python 3 (ipykernel)",
   "language": "python",
   "name": "python3"
  },
  "language_info": {
   "codemirror_mode": {
    "name": "ipython",
    "version": 3
   },
   "file_extension": ".py",
   "mimetype": "text/x-python",
   "name": "python",
   "nbconvert_exporter": "python",
   "pygments_lexer": "ipython3",
   "version": "3.11.4"
  }
 },
 "nbformat": 4,
 "nbformat_minor": 5
}
